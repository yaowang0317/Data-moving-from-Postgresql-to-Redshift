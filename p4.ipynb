{
 "cells": [
  {
   "cell_type": "code",
   "execution_count": null,
   "metadata": {},
   "outputs": [],
   "source": [
    "#Load data to Redshift from S3\n",
    "from psycopg2 import connect\n",
    "import psycopg2\n",
    "import time\n",
    "import sys\n",
    "import datetime\n",
    "from datetime import date\n",
    "\n",
    "role_credentials = '<YOUR ROLE CREDENTIALS>'\n",
    "region = '<YOUR REGION>'\n",
    "bucket_name = '<YOUR BUCKET NAME>'\n",
    "dbname = '<YOUR DBNAME>'\n",
    "user = '<YOUR USER>'\n",
    "host ='<YOUR HOST>'\n",
    "password = '<YOUR PASSWORD>'\n",
    "\n",
    "#Obtaining the connection to RedShift\n",
    "con = connect(\n",
    "        dbname = dbname,\n",
    "        user = user,\n",
    "        host = host,\n",
    "        password = password,\n",
    ")\n",
    "\n",
    "#Copy Command as Variable\n",
    "copy_command=\"copy apps from '{}' \\\n",
    "credentials 'aws_iam_role={}' \\\n",
    "delimiter '|' region '{}';\".format(bucket_name,role_credential, region)\n",
    "\n",
    "#Opening a cursor and run copy query\n",
    "cur = con.cursor()\n",
    "\n",
    "cur.execute(copy_command)\n",
    "con.commit()\n",
    "\n",
    "cur.close()\n",
    "con.close()\n"
   ]
  }
 ],
 "metadata": {
  "kernelspec": {
   "display_name": "Python 3",
   "language": "python",
   "name": "python3"
  },
  "language_info": {
   "codemirror_mode": {
    "name": "ipython",
    "version": 3
   },
   "file_extension": ".py",
   "mimetype": "text/x-python",
   "name": "python",
   "nbconvert_exporter": "python",
   "pygments_lexer": "ipython3",
   "version": "3.7.6"
  }
 },
 "nbformat": 4,
 "nbformat_minor": 4
}
