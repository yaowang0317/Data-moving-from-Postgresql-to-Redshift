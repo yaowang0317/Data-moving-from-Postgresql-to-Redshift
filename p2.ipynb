{
 "cells": [
  {
   "cell_type": "code",
   "execution_count": 11,
   "metadata": {},
   "outputs": [
    {
     "name": "stdout",
     "output_type": "stream",
     "text": [
      "\n",
      "created cursor object: <cursor object at 0x000001B259D0D908; closed: 0>\n"
     ]
    }
   ],
   "source": [
    "#Dump the data from Postgresql to a gzipped CSV file\n",
    "\n",
    "dbname = '<YOUR DBNAME>'\n",
    "user = '<YOUR USER>'\n",
    "host ='<YOUR HOST>'\n",
    "password = '<YOUR PASSWORD>'\n",
    "\n",
    "import psycopg2\n",
    "from psycopg2 import sql, Error, connect\n",
    "\n",
    "try:\n",
    "    # declare a new PostgreSQL connection object\n",
    "    conn = connect(\n",
    "        dbname = dbname,\n",
    "        user = user,\n",
    "        host = host,\n",
    "        password = password,\n",
    "        # attempt to connect for 3 seconds then raise exception\n",
    "        connect_timeout = 3\n",
    "    )\n",
    "\n",
    "    cur = conn.cursor()\n",
    "    print (\"\\ncreated cursor object:\", cur)\n",
    "\n",
    "except Error as err:\n",
    "    print (\"\\npsycopg2 connect error:\", err)\n",
    "    conn = None\n",
    "    cur = None\n",
    "    \n",
    "    \n",
    "\n",
    "# Use the COPY function on the SQL we created above.\n",
    "s='SELECT * FROM apps'\n",
    "SQL_for_file_output = \"COPY ({0}) TO STDOUT WITH CSV HEADER\".format(s)\n",
    "\n",
    "\n",
    "# Set up a variable to store our file path and name.\n",
    "t_path_n_file = \"c:/users/yao/apps.csv.gz\"\n",
    "\n",
    "with open(t_path_n_file, 'w') as f_output:\n",
    "    cur.copy_expert(SQL_for_file_output, f_output)"
   ]
  }
 ],
 "metadata": {
  "kernelspec": {
   "display_name": "Python 3",
   "language": "python",
   "name": "python3"
  },
  "language_info": {
   "codemirror_mode": {
    "name": "ipython",
    "version": 3
   },
   "file_extension": ".py",
   "mimetype": "text/x-python",
   "name": "python",
   "nbconvert_exporter": "python",
   "pygments_lexer": "ipython3",
   "version": "3.7.6"
  }
 },
 "nbformat": 4,
 "nbformat_minor": 4
}
